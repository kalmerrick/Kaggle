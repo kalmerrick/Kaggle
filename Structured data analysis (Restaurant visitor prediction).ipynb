{
 "cells": [
  {
   "cell_type": "markdown",
   "metadata": {},
   "source": [
    "# Kaggle Restaurant Competition: Predict Number of visitors\n",
    "#####  In this competition, we are asked to use reservation and visitation data to predict the total number of visitors to a restaurant for future dates.\n",
    "\n",
    "by Jonathan Callan"
   ]
  },
  {
   "cell_type": "markdown",
   "metadata": {},
   "source": [
    " ###  Working Directory"
   ]
  },
  {
   "cell_type": "code",
   "execution_count": 3,
   "metadata": {},
   "outputs": [
    {
     "data": {
      "text/plain": [
       "'C:\\\\Users\\\\Kalmerrick\\\\fastai\\\\python\\\\kaggle\\\\Restaurant'"
      ]
     },
     "execution_count": 3,
     "metadata": {},
     "output_type": "execute_result"
    }
   ],
   "source": [
    "import os\n",
    "os.getcwd()"
   ]
  },
  {
   "cell_type": "markdown",
   "metadata": {},
   "source": [
    "### Imports"
   ]
  },
  {
   "cell_type": "code",
   "execution_count": 4,
   "metadata": {},
   "outputs": [],
   "source": [
    "# autoreload reloads the modules automatically before entering the execution of the code typed at the Ipython prompt\n",
    "%load_ext autoreload\n",
    "%autoreload 2\n",
    "\n",
    "#matplotlib inline will make your plots output appear and be stored within the notebook\n",
    "%matplotlib inline"
   ]
  },
  {
   "cell_type": "code",
   "execution_count": 5,
   "metadata": {},
   "outputs": [],
   "source": [
    "from fastai.imports import *\n",
    "from fastai.structured import *\n",
    "from fastai.column_data import *\n",
    "np.set_printoptions(threshold=50, edgeitems=20)\n",
    "\n",
    "from pandas_summary import DataFrameSummary\n",
    "from IPython.display import display\n",
    "from sklearn.metrics import mean_squared_error"
   ]
  },
  {
   "cell_type": "code",
   "execution_count": 6,
   "metadata": {},
   "outputs": [],
   "source": [
    "PATH = 'data/'"
   ]
  },
  {
   "cell_type": "code",
   "execution_count": 7,
   "metadata": {},
   "outputs": [
    {
     "data": {
      "text/plain": [
       "['air_reserve.csv',\n",
       " 'air_store_info.csv',\n",
       " 'air_visit_data.csv',\n",
       " 'date_info.csv',\n",
       " 'hpg_reserve.csv',\n",
       " 'hpg_store_info.csv',\n",
       " 'models',\n",
       " 'sample_submission.csv',\n",
       " 'store_id_relation.csv',\n",
       " 'submits',\n",
       " 'test.csv',\n",
       " 'tmp',\n",
       " 'train.csv']"
      ]
     },
     "execution_count": 7,
     "metadata": {},
     "output_type": "execute_result"
    }
   ],
   "source": [
    "os.listdir(PATH)"
   ]
  },
  {
   "cell_type": "markdown",
   "metadata": {},
   "source": [
    "## Data import and munging"
   ]
  },
  {
   "cell_type": "code",
   "execution_count": 9,
   "metadata": {},
   "outputs": [],
   "source": [
    "data = {\n",
    "    'tra': pd.read_csv(f'{PATH}air_visit_data.csv', low_memory=False),\n",
    "    'as': pd.read_csv(f'{PATH}air_store_info.csv', low_memory=False),\n",
    "    'hs': pd.read_csv(f'{PATH}hpg_store_info.csv',low_memory=False),\n",
    "    'ar': pd.read_csv(f'{PATH}air_reserve.csv',low_memory=False),\n",
    "    'hr': pd.read_csv(f'{PATH}hpg_reserve.csv',low_memory=False),\n",
    "    'id': pd.read_csv(f'{PATH}store_id_relation.csv',low_memory=False),\n",
    "    'tes': pd.read_csv(f'{PATH}sample_submission.csv',low_memory=False),\n",
    "    'hol': pd.read_csv(f'{PATH}date_info.csv',low_memory=False).rename(columns={'calendar_date':'visit_date'})\n",
    "    }\n",
    "\n",
    "data['hr'] = pd.merge(data['hr'], data['id'], how='inner', on=['hpg_store_id'])\n",
    "\n",
    "for df in ['ar','hr']:\n",
    "    data[df]['visit_datetime'] = pd.to_datetime(data[df]['visit_datetime'])\n",
    "    data[df]['visit_datetime'] = data[df]['visit_datetime'].dt.date\n",
    "    data[df]['reserve_datetime'] = pd.to_datetime(data[df]['reserve_datetime'])\n",
    "    data[df]['reserve_datetime'] = data[df]['reserve_datetime'].dt.date    \n",
    "    data[df]['reserve_datetime_diff'] = data[df].apply(lambda r: (r['visit_datetime'] - r['reserve_datetime']).days, axis=1)\n",
    "    data[df] = data[df].groupby(['air_store_id','visit_datetime'], as_index=False)[['reserve_datetime_diff', 'reserve_visitors']].sum().rename(columns={'visit_datetime':'visit_date'})\n",
    "\n",
    "data['tra']['visit_date'] = pd.to_datetime(data['tra']['visit_date'])\n",
    "data['tra']['dow'] = data['tra']['visit_date'].dt.dayofweek\n",
    "data['tra']['year'] = data['tra']['visit_date'].dt.year\n",
    "data['tra']['month'] = data['tra']['visit_date'].dt.month\n",
    "data['tra']['visit_date'] = data['tra']['visit_date'].dt.date\n",
    "\n",
    "data['tes']['visit_date'] = data['tes']['id'].map(lambda x: str(x).split('_')[2])\n",
    "data['tes']['air_store_id'] = data['tes']['id'].map(lambda x: '_'.join(x.split('_')[:2]))\n",
    "data['tes']['visit_date'] = pd.to_datetime(data['tes']['visit_date'])\n",
    "data['tes']['dow'] = data['tes']['visit_date'].dt.dayofweek\n",
    "data['tes']['year'] = data['tes']['visit_date'].dt.year\n",
    "data['tes']['month'] = data['tes']['visit_date'].dt.month\n",
    "data['tes']['visit_date'] = data['tes']['visit_date'].dt.date\n",
    "unique_stores = data['tes']['air_store_id'].unique()\n",
    "stores = pd.concat([pd.DataFrame({'air_store_id': unique_stores, 'dow': [i]*len(unique_stores)}) for i in range(7)], axis=0, ignore_index=True).reset_index(drop=True)\n",
    "\n",
    "tmp = data['tra'].groupby(['air_store_id','dow'], as_index=False)['visitors'].min().rename(columns={'visitors':'min_visitors'})\n",
    "stores = pd.merge(stores, tmp, how='left', on=['air_store_id','dow']) \n",
    "tmp = data['tra'].groupby(['air_store_id','dow'], as_index=False)['visitors'].mean().rename(columns={'visitors':'mean_visitors'})\n",
    "stores = pd.merge(stores, tmp, how='left', on=['air_store_id','dow'])\n",
    "tmp = data['tra'].groupby(['air_store_id','dow'], as_index=False)['visitors'].median().rename(columns={'visitors':'median_visitors'})\n",
    "stores = pd.merge(stores, tmp, how='left', on=['air_store_id','dow'])\n",
    "tmp = data['tra'].groupby(['air_store_id','dow'], as_index=False)['visitors'].max().rename(columns={'visitors':'max_visitors'})\n",
    "stores = pd.merge(stores, tmp, how='left', on=['air_store_id','dow'])\n",
    "tmp = data['tra'].groupby(['air_store_id','dow'], as_index=False)['visitors'].count().rename(columns={'visitors':'count_observations'})\n",
    "stores = pd.merge(stores, tmp, how='left', on=['air_store_id','dow'])\n",
    "\n",
    "stores = pd.merge(stores, data['as'], how='left', on=['air_store_id']) \n",
    "lbl = LabelEncoder()\n",
    "stores['air_genre_name'] = lbl.fit_transform(stores['air_genre_name'])\n",
    "stores['air_area_name'] = lbl.fit_transform(stores['air_area_name'])\n",
    "\n",
    "data['hol']['visit_date'] = pd.to_datetime(data['hol']['visit_date'])\n",
    "data['hol']['day_of_week'] = lbl.fit_transform(data['hol']['day_of_week'])\n",
    "data['hol']['visit_date'] = data['hol']['visit_date'].dt.date\n",
    "train = pd.merge(data['tra'], data['hol'], how='left', on=['visit_date']) \n",
    "test = pd.merge(data['tes'], data['hol'], how='left', on=['visit_date'])  \n",
    "\n",
    "train = pd.merge(data['tra'], stores, how='left', on=['air_store_id','dow']) \n",
    "test = pd.merge(data['tes'], stores, how='left', on=['air_store_id','dow'])\n",
    "\n",
    "for df in ['ar','hr']:\n",
    "    train = pd.merge(train, data[df], how='left', on=['air_store_id','visit_date']) \n",
    "    test = pd.merge(test, data[df], how='left', on=['air_store_id','visit_date'])\n",
    "    \n",
    "train = train.fillna(-1)\n",
    "test = test.fillna(-1)"
   ]
  },
  {
   "cell_type": "code",
   "execution_count": 16,
   "metadata": {},
   "outputs": [
    {
     "data": {
      "text/plain": [
       "(252108, 19)"
      ]
     },
     "execution_count": 16,
     "metadata": {},
     "output_type": "execute_result"
    }
   ],
   "source": [
    "#train.head()\n",
    "train.shape\n",
    "#train.info()"
   ]
  },
  {
   "cell_type": "code",
   "execution_count": 18,
   "metadata": {},
   "outputs": [
    {
     "data": {
      "text/plain": [
       "(32019, 20)"
      ]
     },
     "execution_count": 18,
     "metadata": {},
     "output_type": "execute_result"
    }
   ],
   "source": [
    "#test.head()\n",
    "test.shape\n",
    "#test.info() \n",
    "# Note Test has an extra column id which will need to be used to enter the Kaggle comp"
   ]
  },
  {
   "cell_type": "code",
   "execution_count": 19,
   "metadata": {},
   "outputs": [],
   "source": [
    "train.to_csv(f'{PATH}train.csv', index= False)"
   ]
  },
  {
   "cell_type": "code",
   "execution_count": 20,
   "metadata": {},
   "outputs": [],
   "source": [
    "test.to_csv(f'{PATH}test.csv', index = False)"
   ]
  },
  {
   "cell_type": "code",
   "execution_count": 21,
   "metadata": {},
   "outputs": [],
   "source": [
    "df_raw = pd.read_csv(f'{PATH}train.csv', low_memory = False,\n",
    "                    parse_dates = ['visit_date'])"
   ]
  },
  {
   "cell_type": "code",
   "execution_count": 22,
   "metadata": {},
   "outputs": [],
   "source": [
    "df_test = pd.read_csv(f'{PATH}test.csv', low_memory = False,\n",
    "                     parse_dates = ['visit_date'])"
   ]
  },
  {
   "cell_type": "code",
   "execution_count": 23,
   "metadata": {},
   "outputs": [],
   "source": [
    "def display_all(df):\n",
    "    with pd.option_context(\"display.max_rows\", 1000):\n",
    "        with pd.option_context(\"display.max_columns\", 1000):\n",
    "            display(df)"
   ]
  },
  {
   "cell_type": "code",
   "execution_count": 24,
   "metadata": {},
   "outputs": [
    {
     "data": {
      "text/html": [
       "<div>\n",
       "<style scoped>\n",
       "    .dataframe tbody tr th:only-of-type {\n",
       "        vertical-align: middle;\n",
       "    }\n",
       "\n",
       "    .dataframe tbody tr th {\n",
       "        vertical-align: top;\n",
       "    }\n",
       "\n",
       "    .dataframe thead th {\n",
       "        text-align: right;\n",
       "    }\n",
       "</style>\n",
       "<table border=\"1\" class=\"dataframe\">\n",
       "  <thead>\n",
       "    <tr style=\"text-align: right;\">\n",
       "      <th></th>\n",
       "      <th>visitors</th>\n",
       "      <th>dow</th>\n",
       "      <th>year</th>\n",
       "      <th>month</th>\n",
       "      <th>min_visitors</th>\n",
       "      <th>mean_visitors</th>\n",
       "      <th>median_visitors</th>\n",
       "      <th>max_visitors</th>\n",
       "      <th>count_observations</th>\n",
       "      <th>air_genre_name</th>\n",
       "      <th>air_area_name</th>\n",
       "      <th>latitude</th>\n",
       "      <th>longitude</th>\n",
       "      <th>reserve_datetime_diff_x</th>\n",
       "      <th>reserve_visitors_x</th>\n",
       "      <th>reserve_datetime_diff_y</th>\n",
       "      <th>reserve_visitors_y</th>\n",
       "    </tr>\n",
       "  </thead>\n",
       "  <tbody>\n",
       "    <tr>\n",
       "      <th>count</th>\n",
       "      <td>252108.000000</td>\n",
       "      <td>252108.000000</td>\n",
       "      <td>252108.000000</td>\n",
       "      <td>252108.000000</td>\n",
       "      <td>252108.000000</td>\n",
       "      <td>252108.000000</td>\n",
       "      <td>252108.000000</td>\n",
       "      <td>252108.000000</td>\n",
       "      <td>252108.000000</td>\n",
       "      <td>252108.000000</td>\n",
       "      <td>252108.000000</td>\n",
       "      <td>252108.000000</td>\n",
       "      <td>252108.000000</td>\n",
       "      <td>252108.000000</td>\n",
       "      <td>252108.000000</td>\n",
       "      <td>252108.000000</td>\n",
       "      <td>252108.000000</td>\n",
       "    </tr>\n",
       "    <tr>\n",
       "      <th>mean</th>\n",
       "      <td>20.973761</td>\n",
       "      <td>3.019678</td>\n",
       "      <td>2016.307697</td>\n",
       "      <td>6.208200</td>\n",
       "      <td>5.305171</td>\n",
       "      <td>20.816460</td>\n",
       "      <td>19.687483</td>\n",
       "      <td>49.308634</td>\n",
       "      <td>50.030304</td>\n",
       "      <td>5.237977</td>\n",
       "      <td>49.794913</td>\n",
       "      <td>35.368196</td>\n",
       "      <td>136.460923</td>\n",
       "      <td>1.496033</td>\n",
       "      <td>0.642074</td>\n",
       "      <td>-0.379587</td>\n",
       "      <td>-0.580588</td>\n",
       "    </tr>\n",
       "    <tr>\n",
       "      <th>std</th>\n",
       "      <td>16.757007</td>\n",
       "      <td>1.923985</td>\n",
       "      <td>0.461542</td>\n",
       "      <td>3.680263</td>\n",
       "      <td>6.364927</td>\n",
       "      <td>12.659500</td>\n",
       "      <td>12.784121</td>\n",
       "      <td>37.029759</td>\n",
       "      <td>14.631451</td>\n",
       "      <td>3.155539</td>\n",
       "      <td>30.804083</td>\n",
       "      <td>3.570526</td>\n",
       "      <td>11.707118</td>\n",
       "      <td>155.733715</td>\n",
       "      <td>7.401552</td>\n",
       "      <td>4.747227</td>\n",
       "      <td>2.504373</td>\n",
       "    </tr>\n",
       "    <tr>\n",
       "      <th>min</th>\n",
       "      <td>1.000000</td>\n",
       "      <td>0.000000</td>\n",
       "      <td>2016.000000</td>\n",
       "      <td>1.000000</td>\n",
       "      <td>-1.000000</td>\n",
       "      <td>-1.000000</td>\n",
       "      <td>-1.000000</td>\n",
       "      <td>-1.000000</td>\n",
       "      <td>-1.000000</td>\n",
       "      <td>-1.000000</td>\n",
       "      <td>-1.000000</td>\n",
       "      <td>-1.000000</td>\n",
       "      <td>-1.000000</td>\n",
       "      <td>-1.000000</td>\n",
       "      <td>-1.000000</td>\n",
       "      <td>-1.000000</td>\n",
       "      <td>-1.000000</td>\n",
       "    </tr>\n",
       "    <tr>\n",
       "      <th>25%</th>\n",
       "      <td>9.000000</td>\n",
       "      <td>1.000000</td>\n",
       "      <td>2016.000000</td>\n",
       "      <td>3.000000</td>\n",
       "      <td>1.000000</td>\n",
       "      <td>11.016667</td>\n",
       "      <td>10.000000</td>\n",
       "      <td>28.000000</td>\n",
       "      <td>40.000000</td>\n",
       "      <td>2.000000</td>\n",
       "      <td>23.000000</td>\n",
       "      <td>34.688241</td>\n",
       "      <td>135.265455</td>\n",
       "      <td>-1.000000</td>\n",
       "      <td>-1.000000</td>\n",
       "      <td>-1.000000</td>\n",
       "      <td>-1.000000</td>\n",
       "    </tr>\n",
       "    <tr>\n",
       "      <th>50%</th>\n",
       "      <td>17.000000</td>\n",
       "      <td>3.000000</td>\n",
       "      <td>2016.000000</td>\n",
       "      <td>7.000000</td>\n",
       "      <td>3.000000</td>\n",
       "      <td>18.256410</td>\n",
       "      <td>17.000000</td>\n",
       "      <td>43.000000</td>\n",
       "      <td>43.000000</td>\n",
       "      <td>6.000000</td>\n",
       "      <td>55.000000</td>\n",
       "      <td>35.658068</td>\n",
       "      <td>139.669361</td>\n",
       "      <td>-1.000000</td>\n",
       "      <td>-1.000000</td>\n",
       "      <td>-1.000000</td>\n",
       "      <td>-1.000000</td>\n",
       "    </tr>\n",
       "    <tr>\n",
       "      <th>75%</th>\n",
       "      <td>29.000000</td>\n",
       "      <td>5.000000</td>\n",
       "      <td>2017.000000</td>\n",
       "      <td>10.000000</td>\n",
       "      <td>7.000000</td>\n",
       "      <td>28.058824</td>\n",
       "      <td>27.000000</td>\n",
       "      <td>62.000000</td>\n",
       "      <td>65.000000</td>\n",
       "      <td>7.000000</td>\n",
       "      <td>74.000000</td>\n",
       "      <td>35.694003</td>\n",
       "      <td>139.751599</td>\n",
       "      <td>-1.000000</td>\n",
       "      <td>-1.000000</td>\n",
       "      <td>-1.000000</td>\n",
       "      <td>-1.000000</td>\n",
       "    </tr>\n",
       "    <tr>\n",
       "      <th>max</th>\n",
       "      <td>877.000000</td>\n",
       "      <td>6.000000</td>\n",
       "      <td>2017.000000</td>\n",
       "      <td>12.000000</td>\n",
       "      <td>132.000000</td>\n",
       "      <td>147.428571</td>\n",
       "      <td>152.000000</td>\n",
       "      <td>877.000000</td>\n",
       "      <td>69.000000</td>\n",
       "      <td>13.000000</td>\n",
       "      <td>102.000000</td>\n",
       "      <td>44.020632</td>\n",
       "      <td>144.273398</td>\n",
       "      <td>67801.000000</td>\n",
       "      <td>1633.000000</td>\n",
       "      <td>626.000000</td>\n",
       "      <td>157.000000</td>\n",
       "    </tr>\n",
       "  </tbody>\n",
       "</table>\n",
       "</div>"
      ],
      "text/plain": [
       "            visitors            dow           year          month  \\\n",
       "count  252108.000000  252108.000000  252108.000000  252108.000000   \n",
       "mean       20.973761       3.019678    2016.307697       6.208200   \n",
       "std        16.757007       1.923985       0.461542       3.680263   \n",
       "min         1.000000       0.000000    2016.000000       1.000000   \n",
       "25%         9.000000       1.000000    2016.000000       3.000000   \n",
       "50%        17.000000       3.000000    2016.000000       7.000000   \n",
       "75%        29.000000       5.000000    2017.000000      10.000000   \n",
       "max       877.000000       6.000000    2017.000000      12.000000   \n",
       "\n",
       "        min_visitors  mean_visitors  median_visitors   max_visitors  \\\n",
       "count  252108.000000  252108.000000    252108.000000  252108.000000   \n",
       "mean        5.305171      20.816460        19.687483      49.308634   \n",
       "std         6.364927      12.659500        12.784121      37.029759   \n",
       "min        -1.000000      -1.000000        -1.000000      -1.000000   \n",
       "25%         1.000000      11.016667        10.000000      28.000000   \n",
       "50%         3.000000      18.256410        17.000000      43.000000   \n",
       "75%         7.000000      28.058824        27.000000      62.000000   \n",
       "max       132.000000     147.428571       152.000000     877.000000   \n",
       "\n",
       "       count_observations  air_genre_name  air_area_name       latitude  \\\n",
       "count       252108.000000   252108.000000  252108.000000  252108.000000   \n",
       "mean            50.030304        5.237977      49.794913      35.368196   \n",
       "std             14.631451        3.155539      30.804083       3.570526   \n",
       "min             -1.000000       -1.000000      -1.000000      -1.000000   \n",
       "25%             40.000000        2.000000      23.000000      34.688241   \n",
       "50%             43.000000        6.000000      55.000000      35.658068   \n",
       "75%             65.000000        7.000000      74.000000      35.694003   \n",
       "max             69.000000       13.000000     102.000000      44.020632   \n",
       "\n",
       "           longitude  reserve_datetime_diff_x  reserve_visitors_x  \\\n",
       "count  252108.000000            252108.000000       252108.000000   \n",
       "mean      136.460923                 1.496033            0.642074   \n",
       "std        11.707118               155.733715            7.401552   \n",
       "min        -1.000000                -1.000000           -1.000000   \n",
       "25%       135.265455                -1.000000           -1.000000   \n",
       "50%       139.669361                -1.000000           -1.000000   \n",
       "75%       139.751599                -1.000000           -1.000000   \n",
       "max       144.273398             67801.000000         1633.000000   \n",
       "\n",
       "       reserve_datetime_diff_y  reserve_visitors_y  \n",
       "count            252108.000000       252108.000000  \n",
       "mean                 -0.379587           -0.580588  \n",
       "std                   4.747227            2.504373  \n",
       "min                  -1.000000           -1.000000  \n",
       "25%                  -1.000000           -1.000000  \n",
       "50%                  -1.000000           -1.000000  \n",
       "75%                  -1.000000           -1.000000  \n",
       "max                 626.000000          157.000000  "
      ]
     },
     "metadata": {},
     "output_type": "display_data"
    }
   ],
   "source": [
    "display_all(df_raw.describe())"
   ]
  },
  {
   "cell_type": "markdown",
   "metadata": {},
   "source": [
    "###  Metric"
   ]
  },
  {
   "cell_type": "markdown",
   "metadata": {},
   "source": [
    "It is important to note what metric is being used for a project.  In this case Kaggle tells us what metric to use: RMSLE (root mean squared log error) between the actual and predicted visitors.  Therefore we take the log of the visitors, so that RMSE will give us what we need."
   ]
  },
  {
   "cell_type": "markdown",
   "metadata": {},
   "source": [
    "### Functions"
   ]
  },
  {
   "cell_type": "code",
   "execution_count": 25,
   "metadata": {},
   "outputs": [],
   "source": [
    "def inv_y(a): return np.exp(a)\n",
    "\n",
    "def RMSLE(y, pred):\n",
    "    return mean_squared_error(y, pred)**0.5"
   ]
  },
  {
   "cell_type": "markdown",
   "metadata": {},
   "source": [
    "## Initial processing"
   ]
  },
  {
   "cell_type": "markdown",
   "metadata": {},
   "source": [
    "This dataset contains a mix of **continuous** and **categorical** variables\n",
    "\n",
    "The following method extracts particular date fields from a complete datetime for the purpose of constructing categoricals. You should always consider this feature extraction step when working with date-time. Without expanding your date-time into these additional fields, you can't capture any trend/cyclical behavior as a function of time at any of these granularities."
   ]
  },
  {
   "cell_type": "code",
   "execution_count": 26,
   "metadata": {},
   "outputs": [],
   "source": [
    "add_datepart(df_raw, 'visit_date', drop = False)\n",
    "add_datepart(df_test, 'visit_date', drop = False)"
   ]
  },
  {
   "cell_type": "code",
   "execution_count": 27,
   "metadata": {},
   "outputs": [
    {
     "data": {
      "text/plain": [
       "(32019, 33)"
      ]
     },
     "execution_count": 27,
     "metadata": {},
     "output_type": "execute_result"
    }
   ],
   "source": [
    "df_raw.shape\n",
    "df_test.shape"
   ]
  },
  {
   "cell_type": "code",
   "execution_count": 29,
   "metadata": {},
   "outputs": [
    {
     "data": {
      "text/plain": [
       "0    2016\n",
       "1    2016\n",
       "2    2016\n",
       "3    2016\n",
       "4    2016\n",
       "Name: visit_Year, dtype: int64"
      ]
     },
     "execution_count": 29,
     "metadata": {},
     "output_type": "execute_result"
    }
   ],
   "source": [
    "#An example of new created field, in this case visit_Year\n",
    "df_raw.visit_Year.head()"
   ]
  },
  {
   "cell_type": "markdown",
   "metadata": {},
   "source": [
    "#### Check for missing values"
   ]
  },
  {
   "cell_type": "code",
   "execution_count": 30,
   "metadata": {},
   "outputs": [
    {
     "data": {
      "text/plain": [
       "air_area_name              0.0\n",
       "air_genre_name             0.0\n",
       "air_store_id               0.0\n",
       "count_observations         0.0\n",
       "dow                        0.0\n",
       "latitude                   0.0\n",
       "longitude                  0.0\n",
       "max_visitors               0.0\n",
       "mean_visitors              0.0\n",
       "median_visitors            0.0\n",
       "min_visitors               0.0\n",
       "month                      0.0\n",
       "reserve_datetime_diff_x    0.0\n",
       "reserve_datetime_diff_y    0.0\n",
       "reserve_visitors_x         0.0\n",
       "reserve_visitors_y         0.0\n",
       "visit_Day                  0.0\n",
       "visit_Dayofweek            0.0\n",
       "visit_Dayofyear            0.0\n",
       "visit_Elapsed              0.0\n",
       "visit_Is_month_end         0.0\n",
       "visit_Is_month_start       0.0\n",
       "visit_Is_quarter_end       0.0\n",
       "visit_Is_quarter_start     0.0\n",
       "visit_Is_year_end          0.0\n",
       "visit_Is_year_start        0.0\n",
       "visit_Month                0.0\n",
       "visit_Week                 0.0\n",
       "visit_Year                 0.0\n",
       "visit_date                 0.0\n",
       "visitors                   0.0\n",
       "year                       0.0\n",
       "dtype: float64"
      ]
     },
     "metadata": {},
     "output_type": "display_data"
    }
   ],
   "source": [
    "display_all(df_raw.isnull().sum().sort_index()/len(df_raw))"
   ]
  },
  {
   "cell_type": "markdown",
   "metadata": {},
   "source": [
    "Save this file for now, since it's already in format can we be stored and accessed efficiently."
   ]
  },
  {
   "cell_type": "code",
   "execution_count": 32,
   "metadata": {},
   "outputs": [],
   "source": [
    "os.makedirs(f'{PATH}tmp', exist_ok=True)\n",
    "df_raw.to_feather(f'{PATH}tmp/visitors-raw')\n",
    "df_test.to_feather(f'{PATH}tmp/visitors-test')"
   ]
  },
  {
   "cell_type": "markdown",
   "metadata": {},
   "source": [
    "### Pre-processing"
   ]
  },
  {
   "cell_type": "markdown",
   "metadata": {},
   "source": [
    "In the future we can simply read it from this fast format."
   ]
  },
  {
   "cell_type": "code",
   "execution_count": 33,
   "metadata": {},
   "outputs": [],
   "source": [
    "df_raw = pd.read_feather(f'{PATH}tmp/visitors-raw')\n",
    "df_test = pd.read_feather(f'{PATH}tmp/visitors-test')"
   ]
  },
  {
   "cell_type": "code",
   "execution_count": 34,
   "metadata": {},
   "outputs": [
    {
     "data": {
      "text/plain": [
       "(252108, 32)"
      ]
     },
     "execution_count": 34,
     "metadata": {},
     "output_type": "execute_result"
    }
   ],
   "source": [
    "df_raw.head()\n",
    "df_raw.shape\n",
    "#df_raw.info()"
   ]
  },
  {
   "cell_type": "markdown",
   "metadata": {},
   "source": [
    "Replace categories with their numeric codes, handle missing continuous values, and split the dependent variables into a seperate variable.m"
   ]
  },
  {
   "cell_type": "code",
   "execution_count": 36,
   "metadata": {},
   "outputs": [],
   "source": [
    "joined = df_raw\n",
    "joined_test = df_test"
   ]
  },
  {
   "cell_type": "code",
   "execution_count": 37,
   "metadata": {},
   "outputs": [
    {
     "data": {
      "text/plain": [
       "252108"
      ]
     },
     "execution_count": 37,
     "metadata": {},
     "output_type": "execute_result"
    }
   ],
   "source": [
    "cat_vars = ['air_store_id','dow', 'year', 'month', 'air_genre_name', 'air_area_name','reserve_datetime_diff_x', 'reserve_visitors_x',\n",
    "       'reserve_datetime_diff_y', 'reserve_visitors_y','visit_Year',\n",
    "       'visit_Month', 'visit_Week', 'visit_Day', 'visit_Dayofweek',\n",
    "       'visit_Dayofyear', 'visit_Is_month_end', 'visit_Is_month_start',\n",
    "       'visit_Is_quarter_end', 'visit_Is_quarter_start', 'visit_Is_year_end',\n",
    "       'visit_Is_year_start',]\n",
    "\n",
    "contin_vars = ['min_visitors', 'mean_visitors',\n",
    "       'median_visitors', 'max_visitors', 'count_observations','latitude', 'longitude','visit_Elapsed']\n",
    "\n",
    "n = len(joined); n"
   ]
  },
  {
   "cell_type": "code",
   "execution_count": 40,
   "metadata": {},
   "outputs": [],
   "source": [
    "dep = 'visitors'\n",
    "joined = joined[cat_vars+contin_vars+[dep, 'visit_date']].copy()"
   ]
  },
  {
   "cell_type": "code",
   "execution_count": 41,
   "metadata": {},
   "outputs": [],
   "source": [
    "joined_test[dep]=0\n",
    "joined_test = joined_test[cat_vars+contin_vars+[dep, 'visit_date', 'id']].copy()"
   ]
  },
  {
   "cell_type": "code",
   "execution_count": 42,
   "metadata": {},
   "outputs": [],
   "source": [
    "for v in cat_vars: joined[v] = joined[v].astype('category').cat.as_ordered()"
   ]
  },
  {
   "cell_type": "code",
   "execution_count": 45,
   "metadata": {},
   "outputs": [
    {
     "name": "stdout",
     "output_type": "stream",
     "text": [
      "<class 'pandas.core.frame.DataFrame'>\n",
      "RangeIndex: 32019 entries, 0 to 32018\n",
      "Data columns (total 33 columns):\n",
      "air_store_id               32019 non-null category\n",
      "dow                        32019 non-null category\n",
      "year                       32019 non-null category\n",
      "month                      32019 non-null category\n",
      "air_genre_name             32019 non-null category\n",
      "air_area_name              32019 non-null category\n",
      "reserve_datetime_diff_x    32015 non-null category\n",
      "reserve_visitors_x         32018 non-null category\n",
      "reserve_datetime_diff_y    32019 non-null category\n",
      "reserve_visitors_y         32019 non-null category\n",
      "visit_Year                 32019 non-null category\n",
      "visit_Month                32019 non-null category\n",
      "visit_Week                 32019 non-null category\n",
      "visit_Day                  32019 non-null category\n",
      "visit_Dayofweek            32019 non-null category\n",
      "visit_Dayofyear            32019 non-null category\n",
      "visit_Is_month_end         32019 non-null category\n",
      "visit_Is_month_start       32019 non-null category\n",
      "visit_Is_quarter_end       32019 non-null category\n",
      "visit_Is_quarter_start     32019 non-null category\n",
      "visit_Is_year_end          32019 non-null category\n",
      "visit_Is_year_start        32019 non-null category\n",
      "min_visitors               32019 non-null float64\n",
      "mean_visitors              32019 non-null float64\n",
      "median_visitors            32019 non-null float64\n",
      "max_visitors               32019 non-null float64\n",
      "count_observations         32019 non-null float64\n",
      "latitude                   32019 non-null float64\n",
      "longitude                  32019 non-null float64\n",
      "visit_Elapsed              32019 non-null int64\n",
      "visitors                   32019 non-null int64\n",
      "visit_date                 32019 non-null datetime64[ns]\n",
      "id                         32019 non-null object\n",
      "dtypes: category(22), datetime64[ns](1), float64(7), int64(2), object(1)\n",
      "memory usage: 3.6+ MB\n"
     ]
    }
   ],
   "source": [
    "joined_test.info()"
   ]
  },
  {
   "cell_type": "code",
   "execution_count": 43,
   "metadata": {},
   "outputs": [
    {
     "name": "stderr",
     "output_type": "stream",
     "text": [
      "C:\\Users\\Kalmerrick\\fastai\\python\\kaggle\\Restaurant\\fastai\\structured.py:200: RuntimeWarning: Values and categories have different dtypes. Did you mean to use\n",
      "'Categorical.from_codes(codes, categories)'?\n",
      "  df[n] = pd.Categorical(c, categories=trn[n].cat.categories, ordered=True)\n"
     ]
    }
   ],
   "source": [
    "apply_cats(joined_test, joined)"
   ]
  },
  {
   "cell_type": "code",
   "execution_count": 46,
   "metadata": {},
   "outputs": [],
   "source": [
    "for v in contin_vars:\n",
    "    joined[v] = joined[v].astype('float32')\n",
    "    joined_test[v] = joined_test[v].astype('float32')"
   ]
  },
  {
   "cell_type": "markdown",
   "metadata": {},
   "source": [
    "We're going to run on a sample."
   ]
  },
  {
   "cell_type": "code",
   "execution_count": 47,
   "metadata": {},
   "outputs": [
    {
     "data": {
      "text/plain": [
       "150000"
      ]
     },
     "execution_count": 47,
     "metadata": {},
     "output_type": "execute_result"
    }
   ],
   "source": [
    "idxs = get_cv_idxs(n, val_pct=150000/n)\n",
    "joined_samp = joined.iloc[idxs].set_index(\"visit_date\")\n",
    "samp_size = len(joined_samp); samp_size"
   ]
  },
  {
   "cell_type": "markdown",
   "metadata": {},
   "source": [
    "To run on the full dataset, use this instead:"
   ]
  },
  {
   "cell_type": "code",
   "execution_count": 48,
   "metadata": {},
   "outputs": [],
   "source": [
    "samp_size = n; n\n",
    "joined_samp = joined.set_index('visit_date')"
   ]
  },
  {
   "cell_type": "code",
   "execution_count": 49,
   "metadata": {},
   "outputs": [],
   "source": [
    "df, y, nas, mapper = proc_df(joined_samp, 'visitors', do_scale=True)\n",
    "yl = np.log(y)"
   ]
  },
  {
   "cell_type": "code",
   "execution_count": 50,
   "metadata": {},
   "outputs": [],
   "source": [
    "max_log_y = np.max(yl)\n",
    "y_range = (0, max_log_y*1.2)"
   ]
  },
  {
   "cell_type": "code",
   "execution_count": 51,
   "metadata": {},
   "outputs": [],
   "source": [
    "joined_test = joined_test.set_index(\"visit_date\")"
   ]
  },
  {
   "cell_type": "code",
   "execution_count": 52,
   "metadata": {},
   "outputs": [],
   "source": [
    "df_test, _, nas, mapper = proc_df(joined_test, 'visitors', do_scale=True, skip_flds=['id'],\n",
    "                                  mapper=mapper, na_dict=nas)"
   ]
  },
  {
   "cell_type": "markdown",
   "metadata": {},
   "source": [
    "In time series data, cross-validation is not random. Instead, our holdout data is generally the most recent data, as it would be in real application. This issue is discussed in detail in [this post](http://www.fast.ai/2017/11/13/validation-sets/) on our web site.\n",
    "\n",
    "One approach is to take the last 25% of rows (sorted by date) as our validation set."
   ]
  },
  {
   "cell_type": "code",
   "execution_count": 53,
   "metadata": {},
   "outputs": [],
   "source": [
    "train_ratio = 0.75\n",
    "# train_ratio = 0.9\n",
    "train_size = int(samp_size * train_ratio); train_size\n",
    "val_idx = list(range(train_size, len(df)))"
   ]
  },
  {
   "cell_type": "markdown",
   "metadata": {},
   "source": [
    "An even better option for picking a validation set is using the exact same length of time period as the test set uses - this is implemented here:"
   ]
  },
  {
   "cell_type": "code",
   "execution_count": 54,
   "metadata": {},
   "outputs": [],
   "source": [
    "#val_idx = np.flatnonzero(\n",
    "   # (df.index<=datetime.datetime(2017,3,12)) & (df.index>=datetime.datetime(2017,4,22)))"
   ]
  },
  {
   "cell_type": "markdown",
   "metadata": {},
   "source": [
    "## Deep Learning"
   ]
  },
  {
   "cell_type": "markdown",
   "metadata": {},
   "source": [
    "We're ready to put together our models.\n",
    "\n",
    "Root-mean-squared percent error is the metric Kaggle used for this competition."
   ]
  },
  {
   "cell_type": "code",
   "execution_count": 55,
   "metadata": {},
   "outputs": [],
   "source": [
    "md = ColumnarModelData.from_data_frame(PATH, val_idx, df, yl.astype(np.float32), cat_flds=cat_vars, bs=64,\n",
    "                                       test_df=df_test)"
   ]
  },
  {
   "cell_type": "markdown",
   "metadata": {},
   "source": [
    "Some categorical variables have a lot more levels than others. Store, in particular, has over a thousand!"
   ]
  },
  {
   "cell_type": "code",
   "execution_count": 56,
   "metadata": {},
   "outputs": [],
   "source": [
    "cat_sz = [(c, len(joined_samp[c].cat.categories)+1) for c in cat_vars]"
   ]
  },
  {
   "cell_type": "code",
   "execution_count": 57,
   "metadata": {},
   "outputs": [],
   "source": [
    "emb_szs = [(c, min(50, (c+1)//2)) for _,c in cat_sz]"
   ]
  },
  {
   "cell_type": "code",
   "execution_count": 58,
   "metadata": {},
   "outputs": [],
   "source": [
    "m = md.get_learner(emb_szs, len(df.columns)-len(cat_vars),\n",
    "                   0.01, 1, [1000,500], [0.01,0.01], y_range=y_range)\n",
    "lr = 1e-3"
   ]
  },
  {
   "cell_type": "code",
   "execution_count": 59,
   "metadata": {},
   "outputs": [
    {
     "data": {
      "application/vnd.jupyter.widget-view+json": {
       "model_id": "949593debe434a0c8ac5dc111f650270",
       "version_major": 2,
       "version_minor": 0
      },
      "text/plain": [
       "HBox(children=(IntProgress(value=0, description='Epoch', max=1), HTML(value='')))"
      ]
     },
     "metadata": {},
     "output_type": "display_data"
    },
    {
     "name": "stdout",
     "output_type": "stream",
     "text": [
      " 57%|██████████████████████████████████████▍                             | 1671/2955 [00:58<00:45, 28.35it/s, loss=1.8]"
     ]
    }
   ],
   "source": [
    "m.lr_find()"
   ]
  },
  {
   "cell_type": "code",
   "execution_count": 60,
   "metadata": {},
   "outputs": [
    {
     "data": {
      "image/png": "[encoded data removed]",
      "text/plain": [
       "<Figure size 432x288 with 1 Axes>"
      ]
     },
     "metadata": {},
     "output_type": "display_data"
    },
    {
     "name": "stdout",
     "output_type": "stream",
     "text": [
      "\r",
      " 57%|██████████████████████████████████████▍                             | 1671/2955 [01:10<00:53, 23.87it/s, loss=1.8]"
     ]
    }
   ],
   "source": [
    "m.sched.plot(100)"
   ]
  },
  {
   "cell_type": "markdown",
   "metadata": {},
   "source": [
    "### Sample"
   ]
  },
  {
   "cell_type": "code",
   "execution_count": 61,
   "metadata": {},
   "outputs": [],
   "source": [
    "m = md.get_learner(emb_szs, len(df.columns)-len(cat_vars),\n",
    "                   0.01, 1, [1000,500], [0.01,0.01], y_range=y_range)\n",
    "lr = 1e-4"
   ]
  },
  {
   "cell_type": "code",
   "execution_count": 62,
   "metadata": {},
   "outputs": [
    {
     "data": {
      "application/vnd.jupyter.widget-view+json": {
       "model_id": "2c20086d74f34e9db9b4fb8949c281d1",
       "version_major": 2,
       "version_minor": 0
      },
      "text/plain": [
       "HBox(children=(IntProgress(value=0, description='Epoch', max=3), HTML(value='')))"
      ]
     },
     "metadata": {},
     "output_type": "display_data"
    },
    {
     "name": "stdout",
     "output_type": "stream",
     "text": [
      "  6%|████▏                                                              | 184/2955 [00:06<01:41, 27.22it/s, loss=0.368]\n",
      "epoch      trn_loss   val_loss   RMSLE                                                                                 \n",
      "    0      0.346008   0.332528   0.554118  \n",
      "    1      0.335171   0.331063   0.553853                                                                              \n",
      "    2      0.315185   0.33035    0.55178                                                                               \n",
      "\n"
     ]
    },
    {
     "data": {
      "text/plain": [
       "[array([0.33035]), 0.5517797667729898]"
      ]
     },
     "execution_count": 62,
     "metadata": {},
     "output_type": "execute_result"
    }
   ],
   "source": [
    "m.fit(lr, 3, metrics=[RMSLE])"
   ]
  },
  {
   "cell_type": "markdown",
   "metadata": {},
   "source": [
    "### All"
   ]
  },
  {
   "cell_type": "code",
   "execution_count": 63,
   "metadata": {},
   "outputs": [],
   "source": [
    "m = md.get_learner(emb_szs, len(df.columns)-len(cat_vars),\n",
    "                   0.01, 1, [1000,500], [0.01,0.01], y_range=y_range)\n",
    "lr = 1e-4"
   ]
  },
  {
   "cell_type": "code",
   "execution_count": 64,
   "metadata": {},
   "outputs": [
    {
     "data": {
      "application/vnd.jupyter.widget-view+json": {
       "model_id": "dd371937f2674f9cb7b01dc9928a0e8a",
       "version_major": 2,
       "version_minor": 0
      },
      "text/plain": [
       "HBox(children=(IntProgress(value=0, description='Epoch', max=5), HTML(value='')))"
      ]
     },
     "metadata": {},
     "output_type": "display_data"
    },
    {
     "name": "stdout",
     "output_type": "stream",
     "text": [
      "epoch      trn_loss   val_loss   RMSLE                                                                                 \n",
      "    0      0.361345   0.33308    0.553961  \n",
      "    1      0.335016   0.330441   0.552129                                                                              \n",
      "    2      0.318979   0.330751   0.552441                                                                              \n",
      "    3      0.320502   0.332023   0.553855                                                                              \n",
      "    4      0.298657   0.332313   0.554152                                                                              \n",
      "\n"
     ]
    },
    {
     "data": {
      "text/plain": [
       "[array([0.33231]), 0.5541524129734682]"
      ]
     },
     "execution_count": 64,
     "metadata": {},
     "output_type": "execute_result"
    }
   ],
   "source": [
    "m.fit(lr, 5, metrics=[RMSLE], cycle_len=1)"
   ]
  },
  {
   "cell_type": "markdown",
   "metadata": {},
   "source": [
    "### Test"
   ]
  },
  {
   "cell_type": "code",
   "execution_count": 65,
   "metadata": {},
   "outputs": [],
   "source": [
    "m = md.get_learner(emb_szs, len(df.columns)-len(cat_vars),\n",
    "                   0.02, 1, [1000,500], [0.01,0.01], y_range=y_range) \n",
    "lr = 1e-2"
   ]
  },
  {
   "cell_type": "code",
   "execution_count": 66,
   "metadata": {},
   "outputs": [
    {
     "data": {
      "application/vnd.jupyter.widget-view+json": {
       "model_id": "b5add09a351c4aee8420be8faf6bc35c",
       "version_major": 2,
       "version_minor": 0
      },
      "text/plain": [
       "HBox(children=(IntProgress(value=0, description='Epoch', max=3), HTML(value='')))"
      ]
     },
     "metadata": {},
     "output_type": "display_data"
    },
    {
     "name": "stdout",
     "output_type": "stream",
     "text": [
      "epoch      trn_loss   val_loss   RMSLE                                                                                 \n",
      "    0      8.246551   7.783886   2.74075   \n",
      "    1      8.2834     7.783886   2.74075                                                                               \n",
      "    2      8.418648   7.783886   2.74075                                                                               \n",
      "\n"
     ]
    },
    {
     "data": {
      "text/plain": [
       "[array([7.78389]), 2.7407497154261513]"
      ]
     },
     "execution_count": 66,
     "metadata": {},
     "output_type": "execute_result"
    }
   ],
   "source": [
    "m.fit(lr, 3, metrics=[RMSLE])"
   ]
  },
  {
   "cell_type": "code",
   "execution_count": 67,
   "metadata": {},
   "outputs": [
    {
     "data": {
      "application/vnd.jupyter.widget-view+json": {
       "model_id": "abef730139d7440f9109c276bcc0c057",
       "version_major": 2,
       "version_minor": 0
      },
      "text/plain": [
       "HBox(children=(IntProgress(value=0, description='Epoch', max=3), HTML(value='')))"
      ]
     },
     "metadata": {},
     "output_type": "display_data"
    },
    {
     "name": "stdout",
     "output_type": "stream",
     "text": [
      "epoch      trn_loss   val_loss   RMSLE                                                                                 \n",
      "    0      8.271889   7.783886   2.74075   \n",
      "    1      8.319792   7.783886   2.74075                                                                               \n",
      "    2      8.26797    7.783886   2.74075                                                                               \n",
      "\n"
     ]
    },
    {
     "data": {
      "text/plain": [
       "[array([7.78389]), 2.7407497154261513]"
      ]
     },
     "execution_count": 67,
     "metadata": {},
     "output_type": "execute_result"
    }
   ],
   "source": [
    "m.fit(lr, 3, metrics=[RMSLE], cycle_len=1)"
   ]
  },
  {
   "cell_type": "code",
   "execution_count": 68,
   "metadata": {},
   "outputs": [],
   "source": [
    "m.save('val0')"
   ]
  },
  {
   "cell_type": "code",
   "execution_count": 69,
   "metadata": {},
   "outputs": [],
   "source": [
    "m.load('val0')"
   ]
  },
  {
   "cell_type": "code",
   "execution_count": 70,
   "metadata": {},
   "outputs": [],
   "source": [
    "x,y=m.predict_with_targs()"
   ]
  },
  {
   "cell_type": "code",
   "execution_count": null,
   "metadata": {},
   "outputs": [],
   "source": [
    "#0.57070569632471202\n",
    "#0.55858214573044118\n",
    "#0.57656862209140136\n",
    "#0.57271729959643636"
   ]
  },
  {
   "cell_type": "code",
   "execution_count": 71,
   "metadata": {},
   "outputs": [
    {
     "data": {
      "text/plain": [
       "2.7899618114742832"
      ]
     },
     "execution_count": 71,
     "metadata": {},
     "output_type": "execute_result"
    }
   ],
   "source": [
    "RMSLE(x,y)"
   ]
  },
  {
   "cell_type": "code",
   "execution_count": 72,
   "metadata": {},
   "outputs": [],
   "source": [
    "pred_test=m.predict(True)"
   ]
  },
  {
   "cell_type": "code",
   "execution_count": 73,
   "metadata": {},
   "outputs": [],
   "source": [
    "pred_test = np.exp(pred_test)"
   ]
  },
  {
   "cell_type": "code",
   "execution_count": 74,
   "metadata": {},
   "outputs": [],
   "source": [
    "joined_test['visitors']=pred_test"
   ]
  },
  {
   "cell_type": "markdown",
   "metadata": {},
   "source": [
    "## Submission"
   ]
  },
  {
   "cell_type": "code",
   "execution_count": 75,
   "metadata": {},
   "outputs": [],
   "source": [
    "os.makedirs(PATH + 'submits', exist_ok=True)\n",
    "# Makes the submission name out of folders\n",
    "path3 = PATH +'submits/'\n",
    "## labels submissions in order\n",
    "numFiles=len(os.listdir(path3))\n",
    "subm_name = 'submission'+str(numFiles)+'.csv'"
   ]
  },
  {
   "cell_type": "code",
   "execution_count": 76,
   "metadata": {},
   "outputs": [],
   "source": [
    "csv_fn=f'{path3}{subm_name}'"
   ]
  },
  {
   "cell_type": "code",
   "execution_count": 77,
   "metadata": {},
   "outputs": [
    {
     "data": {
      "text/plain": [
       "'data/submits/submission8.csv'"
      ]
     },
     "execution_count": 77,
     "metadata": {},
     "output_type": "execute_result"
    }
   ],
   "source": [
    "csv_fn"
   ]
  },
  {
   "cell_type": "code",
   "execution_count": 78,
   "metadata": {},
   "outputs": [],
   "source": [
    "joined_test[['id','visitors']].to_csv(csv_fn, index=False)"
   ]
  },
  {
   "cell_type": "code",
   "execution_count": 79,
   "metadata": {},
   "outputs": [
    {
     "data": {
      "text/html": [
       "<a href='data/submits/submission8.csv' target='_blank'>data/submits/submission8.csv</a><br>"
      ],
      "text/plain": [
       "C:\\Users\\Kalmerrick\\fastai\\python\\kaggle\\Restaurant\\data\\submits\\submission8.csv"
      ]
     },
     "execution_count": 79,
     "metadata": {},
     "output_type": "execute_result"
    }
   ],
   "source": [
    "FileLink(csv_fn)"
   ]
  },
  {
   "cell_type": "markdown",
   "metadata": {},
   "source": [
    "## Your Best Entry \n",
    "You advanced 53 places on the leaderboard!\n",
    "Your submission scored 0.501, which is an improvement of your previous score of 0.507. Great job!\n",
    "Tweet this!"
   ]
  },
  {
   "cell_type": "code",
   "execution_count": 80,
   "metadata": {},
   "outputs": [],
   "source": [
    "#0.513"
   ]
  },
  {
   "cell_type": "code",
   "execution_count": 81,
   "metadata": {},
   "outputs": [],
   "source": [
    "#You advanced 175 places on the leaderboard!\n",
    "#Your submission scored 0.495, which is an improvement of your previous score of 0.501. Great job!"
   ]
  },
  {
   "cell_type": "code",
   "execution_count": 82,
   "metadata": {},
   "outputs": [],
   "source": [
    "#You advanced 42 places on the leaderboard!\n",
    "#Your submission scored 0.494, which is an improvement of your previous score of 0.495. Great job!"
   ]
  },
  {
   "cell_type": "code",
   "execution_count": null,
   "metadata": {},
   "outputs": [],
   "source": [
    "# Zero dropout not the best\n",
    "#Your Best Entry \n",
    "#Your submission scored 0.503, which is not an improvement of your best score. Keep trying!"
   ]
  }
 ],
 "metadata": {
  "kernelspec": {
   "display_name": "Python 3",
   "language": "python",
   "name": "python3"
  },
  "language_info": {
   "codemirror_mode": {
    "name": "ipython",
    "version": 3
   },
   "file_extension": ".py",
   "mimetype": "text/x-python",
   "name": "python",
   "nbconvert_exporter": "python",
   "pygments_lexer": "ipython3",
   "version": "3.6.5"
  }
 },
 "nbformat": 4,
 "nbformat_minor": 2
}
